{
 "cells": [
  {
   "cell_type": "code",
   "execution_count": 1,
   "metadata": {},
   "outputs": [],
   "source": [
    "import pandas as pd\n",
    "from matplotlib import pyplot as plt\n",
    "import seaborn as sb\n",
    "import numpy as np\n",
    "import scipy as stats\n",
    "%matplotlib inline\n",
    "\n",
    "leptin = pd.read_csv('../input/Classeur1.csv')"
   ]
  },
  {
   "cell_type": "code",
   "execution_count": 2,
   "metadata": {},
   "outputs": [
    {
     "data": {
      "text/html": [
       "<div>\n",
       "<style scoped>\n",
       "    .dataframe tbody tr th:only-of-type {\n",
       "        vertical-align: middle;\n",
       "    }\n",
       "\n",
       "    .dataframe tbody tr th {\n",
       "        vertical-align: top;\n",
       "    }\n",
       "\n",
       "    .dataframe thead th {\n",
       "        text-align: right;\n",
       "    }\n",
       "</style>\n",
       "<table border=\"1\" class=\"dataframe\">\n",
       "  <thead>\n",
       "    <tr style=\"text-align: right;\">\n",
       "      <th></th>\n",
       "      <th>ID</th>\n",
       "      <th>Treatment</th>\n",
       "      <th>Concentration</th>\n",
       "    </tr>\n",
       "  </thead>\n",
       "  <tbody>\n",
       "    <tr>\n",
       "      <th>0</th>\n",
       "      <td>W</td>\n",
       "      <td>MCC950</td>\n",
       "      <td>1.736842</td>\n",
       "    </tr>\n",
       "    <tr>\n",
       "      <th>1</th>\n",
       "      <td>W</td>\n",
       "      <td>MCC950</td>\n",
       "      <td>2.375940</td>\n",
       "    </tr>\n",
       "    <tr>\n",
       "      <th>2</th>\n",
       "      <td>W</td>\n",
       "      <td>MCC950</td>\n",
       "      <td>3.729323</td>\n",
       "    </tr>\n",
       "    <tr>\n",
       "      <th>3</th>\n",
       "      <td>W</td>\n",
       "      <td>VEHICLE</td>\n",
       "      <td>2.827068</td>\n",
       "    </tr>\n",
       "    <tr>\n",
       "      <th>4</th>\n",
       "      <td>W</td>\n",
       "      <td>VEHICLE</td>\n",
       "      <td>1.624060</td>\n",
       "    </tr>\n",
       "    <tr>\n",
       "      <th>5</th>\n",
       "      <td>W</td>\n",
       "      <td>VEHICLE</td>\n",
       "      <td>6.924812</td>\n",
       "    </tr>\n",
       "    <tr>\n",
       "      <th>6</th>\n",
       "      <td>W</td>\n",
       "      <td>MCC950</td>\n",
       "      <td>6.022556</td>\n",
       "    </tr>\n",
       "    <tr>\n",
       "      <th>7</th>\n",
       "      <td>W</td>\n",
       "      <td>MCC950</td>\n",
       "      <td>7.300752</td>\n",
       "    </tr>\n",
       "    <tr>\n",
       "      <th>8</th>\n",
       "      <td>W</td>\n",
       "      <td>VEHICLE</td>\n",
       "      <td>3.654135</td>\n",
       "    </tr>\n",
       "    <tr>\n",
       "      <th>9</th>\n",
       "      <td>W</td>\n",
       "      <td>VEHICLE</td>\n",
       "      <td>3.165414</td>\n",
       "    </tr>\n",
       "    <tr>\n",
       "      <th>10</th>\n",
       "      <td>P</td>\n",
       "      <td>VEHICLE</td>\n",
       "      <td>2.225564</td>\n",
       "    </tr>\n",
       "    <tr>\n",
       "      <th>11</th>\n",
       "      <td>P</td>\n",
       "      <td>VEHICLE</td>\n",
       "      <td>10.684211</td>\n",
       "    </tr>\n",
       "    <tr>\n",
       "      <th>12</th>\n",
       "      <td>P</td>\n",
       "      <td>VEHICLE</td>\n",
       "      <td>4.781955</td>\n",
       "    </tr>\n",
       "    <tr>\n",
       "      <th>13</th>\n",
       "      <td>P</td>\n",
       "      <td>VEHICLE</td>\n",
       "      <td>5.571429</td>\n",
       "    </tr>\n",
       "    <tr>\n",
       "      <th>14</th>\n",
       "      <td>P</td>\n",
       "      <td>MCC950</td>\n",
       "      <td>3.691729</td>\n",
       "    </tr>\n",
       "    <tr>\n",
       "      <th>15</th>\n",
       "      <td>P</td>\n",
       "      <td>MCC950</td>\n",
       "      <td>3.917293</td>\n",
       "    </tr>\n",
       "    <tr>\n",
       "      <th>16</th>\n",
       "      <td>P</td>\n",
       "      <td>MCC950</td>\n",
       "      <td>5.984962</td>\n",
       "    </tr>\n",
       "    <tr>\n",
       "      <th>17</th>\n",
       "      <td>P</td>\n",
       "      <td>VEHICLE</td>\n",
       "      <td>8.766917</td>\n",
       "    </tr>\n",
       "    <tr>\n",
       "      <th>18</th>\n",
       "      <td>P</td>\n",
       "      <td>VEHICLE</td>\n",
       "      <td>5.984962</td>\n",
       "    </tr>\n",
       "    <tr>\n",
       "      <th>19</th>\n",
       "      <td>P</td>\n",
       "      <td>VEHICLE</td>\n",
       "      <td>3.278195</td>\n",
       "    </tr>\n",
       "    <tr>\n",
       "      <th>20</th>\n",
       "      <td>P</td>\n",
       "      <td>MCC950</td>\n",
       "      <td>13.165414</td>\n",
       "    </tr>\n",
       "    <tr>\n",
       "      <th>21</th>\n",
       "      <td>P</td>\n",
       "      <td>MCC950</td>\n",
       "      <td>15.195489</td>\n",
       "    </tr>\n",
       "    <tr>\n",
       "      <th>22</th>\n",
       "      <td>P</td>\n",
       "      <td>MCC950</td>\n",
       "      <td>5.195489</td>\n",
       "    </tr>\n",
       "    <tr>\n",
       "      <th>23</th>\n",
       "      <td>P</td>\n",
       "      <td>MCC950</td>\n",
       "      <td>2.751880</td>\n",
       "    </tr>\n",
       "    <tr>\n",
       "      <th>24</th>\n",
       "      <td>P</td>\n",
       "      <td>MCC950</td>\n",
       "      <td>4.293233</td>\n",
       "    </tr>\n",
       "    <tr>\n",
       "      <th>25</th>\n",
       "      <td>T</td>\n",
       "      <td>MCC950</td>\n",
       "      <td>8.165414</td>\n",
       "    </tr>\n",
       "    <tr>\n",
       "      <th>26</th>\n",
       "      <td>T</td>\n",
       "      <td>VEHICLE</td>\n",
       "      <td>14.744361</td>\n",
       "    </tr>\n",
       "    <tr>\n",
       "      <th>27</th>\n",
       "      <td>T</td>\n",
       "      <td>VEHICLE</td>\n",
       "      <td>14.293233</td>\n",
       "    </tr>\n",
       "    <tr>\n",
       "      <th>28</th>\n",
       "      <td>T</td>\n",
       "      <td>MCC950</td>\n",
       "      <td>17.676692</td>\n",
       "    </tr>\n",
       "    <tr>\n",
       "      <th>29</th>\n",
       "      <td>T</td>\n",
       "      <td>VEHICLE</td>\n",
       "      <td>15.082707</td>\n",
       "    </tr>\n",
       "    <tr>\n",
       "      <th>30</th>\n",
       "      <td>T</td>\n",
       "      <td>VEHICLE</td>\n",
       "      <td>2.338346</td>\n",
       "    </tr>\n",
       "    <tr>\n",
       "      <th>31</th>\n",
       "      <td>T</td>\n",
       "      <td>VEHICLE</td>\n",
       "      <td>3.804511</td>\n",
       "    </tr>\n",
       "    <tr>\n",
       "      <th>32</th>\n",
       "      <td>T</td>\n",
       "      <td>MCC950</td>\n",
       "      <td>8.165414</td>\n",
       "    </tr>\n",
       "    <tr>\n",
       "      <th>33</th>\n",
       "      <td>T</td>\n",
       "      <td>MCC950</td>\n",
       "      <td>7.676692</td>\n",
       "    </tr>\n",
       "    <tr>\n",
       "      <th>34</th>\n",
       "      <td>T</td>\n",
       "      <td>MCC950</td>\n",
       "      <td>1.548872</td>\n",
       "    </tr>\n",
       "  </tbody>\n",
       "</table>\n",
       "</div>"
      ],
      "text/plain": [
       "   ID Treatment  Concentration\n",
       "0   W    MCC950       1.736842\n",
       "1   W    MCC950       2.375940\n",
       "2   W    MCC950       3.729323\n",
       "3   W   VEHICLE       2.827068\n",
       "4   W   VEHICLE       1.624060\n",
       "5   W   VEHICLE       6.924812\n",
       "6   W    MCC950       6.022556\n",
       "7   W    MCC950       7.300752\n",
       "8   W   VEHICLE       3.654135\n",
       "9   W   VEHICLE       3.165414\n",
       "10  P   VEHICLE       2.225564\n",
       "11  P   VEHICLE      10.684211\n",
       "12  P   VEHICLE       4.781955\n",
       "13  P   VEHICLE       5.571429\n",
       "14  P    MCC950       3.691729\n",
       "15  P    MCC950       3.917293\n",
       "16  P    MCC950       5.984962\n",
       "17  P   VEHICLE       8.766917\n",
       "18  P   VEHICLE       5.984962\n",
       "19  P   VEHICLE       3.278195\n",
       "20  P    MCC950      13.165414\n",
       "21  P    MCC950      15.195489\n",
       "22  P    MCC950       5.195489\n",
       "23  P    MCC950       2.751880\n",
       "24  P    MCC950       4.293233\n",
       "25  T    MCC950       8.165414\n",
       "26  T   VEHICLE      14.744361\n",
       "27  T   VEHICLE      14.293233\n",
       "28  T    MCC950      17.676692\n",
       "29  T   VEHICLE      15.082707\n",
       "30  T   VEHICLE       2.338346\n",
       "31  T   VEHICLE       3.804511\n",
       "32  T    MCC950       8.165414\n",
       "33  T    MCC950       7.676692\n",
       "34  T    MCC950       1.548872"
      ]
     },
     "execution_count": 2,
     "metadata": {},
     "output_type": "execute_result"
    }
   ],
   "source": [
    "leptin.ID = leptin.ID.map(lambda x:x[0])\n",
    "leptin"
   ]
  },
  {
   "cell_type": "code",
   "execution_count": 3,
   "metadata": {},
   "outputs": [],
   "source": [
    "leptin[\"t\"] = leptin.ID +\"_\"+ leptin.Treatment"
   ]
  },
  {
   "cell_type": "code",
   "execution_count": 4,
   "metadata": {},
   "outputs": [
    {
     "data": {
      "text/plain": [
       "<matplotlib.axes._subplots.AxesSubplot at 0x7f63357c0c88>"
      ]
     },
     "execution_count": 4,
     "metadata": {},
     "output_type": "execute_result"
    },
    {
     "data": {
      "image/png": "[encoded data removed]",
      "text/plain": [
       "<matplotlib.figure.Figure at 0x7f63a331cd68>"
      ]
     },
     "metadata": {},
     "output_type": "display_data"
    }
   ],
   "source": [
    "sb.swarmplot(x=\"t\",y=\"Concentration\",data=leptin)\n",
    "sb.pointplot(x=\"t\",y=\"Concentration\",data=leptin,join=False,capsize=.2)"
   ]
  },
  {
   "cell_type": "code",
   "execution_count": 5,
   "metadata": {},
   "outputs": [
    {
     "data": {
      "text/plain": [
       "Ttest_indResult(statistic=0.42930344753433375, pvalue=0.6790300045196255)"
      ]
     },
     "execution_count": 5,
     "metadata": {},
     "output_type": "execute_result"
    }
   ],
   "source": [
    "a = leptin.Concentration[leptin.t == \"W_MCC950\"]\n",
    "b = leptin.Concentration[leptin.t == \"W_VEHICLE\"]\n",
    "stats.stats.ttest_ind(a,b)"
   ]
  },
  {
   "cell_type": "code",
   "execution_count": 6,
   "metadata": {},
   "outputs": [
    {
     "data": {
      "text/plain": [
       "<matplotlib.axes._subplots.AxesSubplot at 0x7f63315df6a0>"
      ]
     },
     "execution_count": 6,
     "metadata": {},
     "output_type": "execute_result"
    },
    {
     "data": {
      "image/png": "[encoded data removed]",
      "text/plain": [
       "<matplotlib.figure.Figure at 0x7f63357c0c18>"
      ]
     },
     "metadata": {},
     "output_type": "display_data"
    }
   ],
   "source": [
    "sb.boxplot(x=\"Treatment\",y=\"Concentration\",data=leptin)"
   ]
  },
  {
   "cell_type": "code",
   "execution_count": 7,
   "metadata": {},
   "outputs": [
    {
     "data": {
      "text/plain": [
       "<matplotlib.axes._subplots.AxesSubplot at 0x7f63316051d0>"
      ]
     },
     "execution_count": 7,
     "metadata": {},
     "output_type": "execute_result"
    },
    {
     "data": {
      "image/png": "[encoded data removed]",
      "text/plain": [
       "<matplotlib.figure.Figure at 0x7f633160a550>"
      ]
     },
     "metadata": {},
     "output_type": "display_data"
    }
   ],
   "source": [
    "sb.countplot(x='Treatment', data=leptin)"
   ]
  }
 ],
 "metadata": {
  "kernelspec": {
   "display_name": "Python 3",
   "language": "python",
   "name": "python3"
  },
  "language_info": {
   "codemirror_mode": {
    "name": "ipython",
    "version": 3
   },
   "file_extension": ".py",
   "mimetype": "text/x-python",
   "name": "python",
   "nbconvert_exporter": "python",
   "pygments_lexer": "ipython3",
   "version": "3.6.4"
  }
 },
 "nbformat": 4,
 "nbformat_minor": 2
}
